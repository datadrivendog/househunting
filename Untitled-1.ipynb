{
 "cells": [
  {
   "cell_type": "markdown",
   "metadata": {},
   "source": []
  },
  {
   "cell_type": "code",
   "execution_count": 3,
   "metadata": {},
   "outputs": [],
   "source": []
  },
  {
   "cell_type": "code",
   "execution_count": 34,
   "metadata": {},
   "outputs": [
    {
     "name": "stdout",
     "output_type": "stream",
     "text": [
      "                                             Stations\n",
      "0   {'Address': {'City': 'Rockville', 'State': 'MD...\n",
      "1   {'Address': {'City': 'Rockville', 'State': 'MD...\n",
      "2   {'Address': {'City': 'Rockville', 'State': 'MD...\n",
      "3   {'Address': {'City': 'Rockville', 'State': 'MD...\n",
      "4   {'Address': {'City': 'Bethesda', 'State': 'MD'...\n",
      "5   {'Address': {'City': 'Bethesda', 'State': 'MD'...\n",
      "6   {'Address': {'City': 'Bethesda', 'State': 'MD'...\n",
      "7   {'Address': {'City': 'Washington', 'State': 'D...\n",
      "8   {'Address': {'City': 'Washington', 'State': 'D...\n",
      "9   {'Address': {'City': 'Washington', 'State': 'D...\n",
      "10  {'Address': {'City': 'Washington', 'State': 'D...\n",
      "11  {'Address': {'City': 'Washington', 'State': 'D...\n",
      "12  {'Address': {'City': 'Washington', 'State': 'D...\n",
      "13  {'Address': {'City': 'Washington', 'State': 'D...\n",
      "14  {'Address': {'City': 'Washington', 'State': 'D...\n",
      "15  {'Address': {'City': 'Washington', 'State': 'D...\n",
      "16  {'Address': {'City': 'Washington', 'State': 'D...\n",
      "17  {'Address': {'City': 'Washington', 'State': 'D...\n",
      "18  {'Address': {'City': 'Washington', 'State': 'D...\n",
      "19  {'Address': {'City': 'Washington', 'State': 'D...\n",
      "20  {'Address': {'City': 'Washington', 'State': 'D...\n",
      "21  {'Address': {'City': 'Washington', 'State': 'D...\n",
      "22  {'Address': {'City': 'Washington', 'State': 'D...\n",
      "23  {'Address': {'City': 'Silver Spring', 'State':...\n",
      "24  {'Address': {'City': 'Forest Glen', 'State': '...\n",
      "25  {'Address': {'City': 'Silver Spring', 'State':...\n",
      "26  {'Address': {'City': 'Silver Spring', 'State':...\n"
     ]
    }
   ],
   "source": [
    "import json\n",
    "import pandas as pd\n",
    "\n",
    "dcjson = pd.read_json('dcstations.json')\n",
    "\n",
    "print(dcjson)\n"
   ]
  },
  {
   "cell_type": "code",
   "execution_count": 51,
   "metadata": {},
   "outputs": [],
   "source": [
    "### Import DC Stations with API\n",
    "\n",
    "import requests\n",
    "\n",
    "DCURL = 'https://api.wmata.com/Rail.svc/json/jStations'\n",
    "dcapikey = 'e13626d03d8e4c03ac07f95541b3091b'\n",
    "query_params = {'api_key':dcapikey}\n",
    "\n",
    "dcstations = requests.get(DCURL, params = query_params)\n",
    "dcstations = dcstations.text"
   ]
  },
  {
   "cell_type": "code",
   "execution_count": 53,
   "metadata": {},
   "outputs": [],
   "source": []
  },
  {
   "cell_type": "code",
   "execution_count": 54,
   "metadata": {},
   "outputs": [],
   "source": [
    "### Convert DC Stations to dataframe\n",
    "df_dcstations = pd.read_json(dcstations)"
   ]
  },
  {
   "cell_type": "code",
   "execution_count": 55,
   "metadata": {},
   "outputs": [
    {
     "name": "stdout",
     "output_type": "stream",
     "text": [
      "                                             Stations\n",
      "0   {'Code': 'A01', 'Name': 'Metro Center', 'Stati...\n",
      "1   {'Code': 'A02', 'Name': 'Farragut North', 'Sta...\n",
      "2   {'Code': 'A03', 'Name': 'Dupont Circle', 'Stat...\n",
      "3   {'Code': 'A04', 'Name': 'Woodley Park-Zoo/Adam...\n",
      "4   {'Code': 'A05', 'Name': 'Cleveland Park', 'Sta...\n",
      "..                                                ...\n",
      "90  {'Code': 'N01', 'Name': 'McLean', 'StationToge...\n",
      "91  {'Code': 'N02', 'Name': 'Tysons Corner', 'Stat...\n",
      "92  {'Code': 'N03', 'Name': 'Greensboro', 'Station...\n",
      "93  {'Code': 'N04', 'Name': 'Spring Hill', 'Statio...\n",
      "94  {'Code': 'N06', 'Name': 'Wiehle-Reston East', ...\n",
      "\n",
      "[95 rows x 1 columns]\n"
     ]
    }
   ],
   "source": [
    "print(df_dcstations)"
   ]
  },
  {
   "cell_type": "code",
   "execution_count": null,
   "metadata": {},
   "outputs": [],
   "source": []
  },
  {
   "cell_type": "code",
   "execution_count": null,
   "metadata": {},
   "outputs": [],
   "source": []
  }
 ],
 "metadata": {
  "kernelspec": {
   "display_name": "Python 3.10.4 64-bit",
   "language": "python",
   "name": "python3"
  },
  "language_info": {
   "codemirror_mode": {
    "name": "ipython",
    "version": 3
   },
   "file_extension": ".py",
   "mimetype": "text/x-python",
   "name": "python",
   "nbconvert_exporter": "python",
   "pygments_lexer": "ipython3",
   "version": "3.10.4"
  },
  "orig_nbformat": 4,
  "vscode": {
   "interpreter": {
    "hash": "3b271d36004e62bfcd777a2f686862261832df9c453cce14efd653a83d52a80d"
   }
  }
 },
 "nbformat": 4,
 "nbformat_minor": 2
}
